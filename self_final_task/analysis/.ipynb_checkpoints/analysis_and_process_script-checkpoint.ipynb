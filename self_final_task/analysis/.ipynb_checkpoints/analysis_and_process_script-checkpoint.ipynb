{
 "cells": [
  {
   "cell_type": "code",
   "execution_count": 7,
   "metadata": {},
   "outputs": [
    {
     "name": "stdout",
     "output_type": "stream",
     "text": [
      "test\n"
     ]
    }
   ],
   "source": [
    "with open(\"total.txt\",'r') as f:\n",
    "    print(\"test\")"
   ]
  },
  {
   "cell_type": "code",
   "execution_count": 16,
   "metadata": {},
   "outputs": [
    {
     "name": "stdout",
     "output_type": "stream",
     "text": [
      "find 10000 targets\n",
      "find 20000 targets\n",
      "find 30000 targets\n",
      "find 40000 targets\n",
      "find 50000 targets\n",
      "find 60000 targets\n",
      "find 70000 targets\n",
      "find 80000 targets\n",
      "find 90000 targets\n",
      "find 100000 targets\n",
      "find 110000 targets\n",
      "find 120000 targets\n",
      "find 130000 targets\n",
      "find 140000 targets\n",
      "find 150000 targets\n",
      "find 160000 targets\n",
      "find 170000 targets\n",
      "find 180000 targets\n",
      "find 190000 targets\n",
      "find 200000 targets\n",
      "find 210000 targets\n",
      "find 220000 targets\n",
      "find 230000 targets\n",
      "write success ,totally 239811 lines\n"
     ]
    }
   ],
   "source": [
    "# drop non-Chinses lines\n",
    "def isChinese(uchar):\n",
    "    if uchar >= u'\\u4e00' and uchar <= u'\\u9fa5':\n",
    "        return True\n",
    "    else:\n",
    "        return False\n",
    "    \n",
    "with open(\"total.txt\",'r') as fr:\n",
    "    with open(\"chinese_search_words.txt\",'a') as fw:\n",
    "        cnt = 0\n",
    "        for line in fr:\n",
    "            elements = line.split('\\t')\n",
    "            if len(elements) > 0 and isChinese(elements[0]):\n",
    "                cnt += 1\n",
    "                if cnt % 10000 == 0:\n",
    "                    print(\"find %d targets\" %cnt)\n",
    "                fw.write(line)\n",
    "        print(\"write success ,totally %d lines\" %(cnt))\n",
    "                    "
   ]
  },
  {
   "cell_type": "code",
   "execution_count": 1,
   "metadata": {},
   "outputs": [
    {
     "name": "stdout",
     "output_type": "stream",
     "text": [
      "239811\n"
     ]
    }
   ],
   "source": [
    "word_tuples = []\n",
    "with open('chinese_search_words.txt','r') as f:\n",
    "    for line in f:\n",
    "        line.rstrip('\\n')\n",
    "        tmp = line.split('\\t')\n",
    "        tmp[1] = int(tmp[1])\n",
    "        tmp_tuple = tuple(tmp)\n",
    "        word_tuples.append(tmp_tuple)\n",
    "print(len(word_tuples))"
   ]
  },
  {
   "cell_type": "code",
   "execution_count": 2,
   "metadata": {},
   "outputs": [
    {
     "name": "stdout",
     "output_type": "stream",
     "text": [
      "[('下载', 213308), ('全集', 98645), ('电影', 85627), ('视频', 71877), ('百度', 65255), ('中国', 60173), ('图片', 58585), ('网', 56211), ('年', 55537), ('在线', 49473), ('查询', 48504), ('大全', 46579), ('免费', 45567), ('电视剧', 42638), ('最新', 40259), ('手机', 38781), ('官网', 37704), ('小游戏', 34734), ('观看', 34699), ('总结', 31443), ('工作', 30987), ('网上', 30545), ('游戏', 29660), ('高清', 29159), ('空间', 28932), ('小说', 27658), ('人体艺术', 25415), ('剑', 24861), ('有限公司', 24538), ('快播', 24185), ('美女', 24100), ('新亮', 23486), ('网名', 22961), ('北京', 22748), ('人', 22500), ('好', 21920), ('价格', 21873), ('元旦', 21175), ('版', 20231), ('图', 20140), ('新', 19741), ('照片', 19596), ('个性', 19190), ('上海', 19073), ('十三', 19013), ('火车票', 18339), ('金陵', 18297), ('钗', 18018), ('上', 17856), ('大', 17694), ('阅读', 17451), ('论坛', 17124), ('网站', 16875), ('女人', 16836), ('不', 16640), ('集', 16573), ('月', 16422), ('优酷', 16408), ('软件', 16390), ('作文', 16326), ('汽车', 16223), ('一下', 16210), ('快递', 15991), ('迅雷', 15930), ('直播', 15906), ('爱', 15646), ('新疆', 15602), ('女', 15529), ('招聘', 15511), ('传奇', 15477), ('县长', 15184), ('公司', 15035), ('上册', 14895), ('营业厅', 14853), ('最', 14727), ('签名', 14543), ('世界', 14290), ('儿子', 14213), ('歌曲', 14113), ('号', 13945), ('黑狐', 13929), ('日本', 13891), ('头像', 13820), ('完整版', 13795), ('外挂', 13752), ('标准', 13708), ('图腾', 13615), ('新浪', 13470), ('小', 13446), ('中', 13399), ('小学', 13364), ('答案', 13334), ('移动', 13313), ('全文', 13278), ('电话', 13004), ('龙门', 12996), ('闫宁', 12890), ('岁', 12883), ('地图', 12830), ('钱', 12785)]\n"
     ]
    }
   ],
   "source": [
    "word_tuples = sorted(word_tuples, key=lambda x: (x[1], x[0]),reverse=True)\n",
    "print(word_tuples[:100])"
   ]
  },
  {
   "cell_type": "code",
   "execution_count": 3,
   "metadata": {},
   "outputs": [
    {
     "name": "stdout",
     "output_type": "stream",
     "text": [
      "<pyltp.VectorOfString object at 0x7f447a60df30>\n"
     ]
    }
   ],
   "source": [
    "import os\n",
    "LTP_DIR_PATH = '/home/alexsun/ML/nlp/ltp_model/ltp_data'\n",
    "pos_model_path = os.path.join(LTP_DIR_PATH, 'pos.model')\n",
    "# 词性标注模型路径，模型名称为`pos.model`\n",
    "\n",
    "from pyltp import Postagger\n",
    "postagger = Postagger() # 初始化实例\n",
    "postagger.load(pos_model_path)  # 加载模型\n",
    "pure_words = [t[0] for t in word_tuples]\n",
    "word_tags = []\n",
    "word_tags = postagger.postag(pure_words)\n",
    "print(word_tags[:30])"
   ]
  },
  {
   "cell_type": "code",
   "execution_count": 4,
   "metadata": {},
   "outputs": [
    {
     "name": "stdout",
     "output_type": "stream",
     "text": [
      "['v', 'n', 'n', 'n', 'n', 'ns', 'n', 'n', 'q', 'v', 'v', 'n', 'v', 'n', 'a', 'n', 'n', 'n', 'v', 'v', 'v', 'nl', 'v', 'a', 'n', 'n', 'n', 'n', 'n', 'v']\n"
     ]
    }
   ],
   "source": [
    "word_tags = list(word_tags)\n",
    "print(word_tags[:30])"
   ]
  },
  {
   "cell_type": "code",
   "execution_count": 5,
   "metadata": {},
   "outputs": [
    {
     "name": "stdout",
     "output_type": "stream",
     "text": [
      "['O', 'O', 'O', 'O', 'O', 'S-Ns', 'O', 'O', 'O', 'O', 'O', 'O', 'O', 'O', 'O', 'O', 'O', 'O', 'O', 'O', 'O', 'O', 'O', 'O', 'O', 'B-Ni', 'I-Ni', 'I-Ni', 'E-Ni', 'O']\n"
     ]
    }
   ],
   "source": [
    "#　命名实体识别\n",
    "# 命名实体识别模型路径，模型名称为`pos.model`\n",
    "ner_model_path = os.path.join(LTP_DIR_PATH, 'ner.model')\n",
    "from pyltp import NamedEntityRecognizer\n",
    "recognizer = NamedEntityRecognizer() #模型初始化\n",
    "recognizer.load(ner_model_path)\n",
    "ne_tags = list(recognizer.recognize(pure_words, word_tags))\n",
    "print(ne_tags[:30])"
   ]
  },
  {
   "cell_type": "code",
   "execution_count": 7,
   "metadata": {},
   "outputs": [
    {
     "name": "stdout",
     "output_type": "stream",
     "text": [
      "['下载', '全集', '电影', '视频', '百度', '中国', '图片', '网', '年', '在线', '查询', '大全', '免费', '电视剧', '最新', '手机', '官网', '小游戏', '观看', '总结', '工作', '网上', '游戏', '高清', '空间', '小说', '人体艺术', '剑', '有限公司', '快播', '美女', '新亮', '网名', '北京', '人', '好', '价格', '元旦', '版', '图', '新', '照片', '个性', '上海', '十三', '火车票', '金陵', '钗', '上', '大', '阅读', '论坛', '网站', '女人', '不', '集', '月', '优酷', '软件', '作文', '汽车', '一下', '快递', '迅雷', '直播', '爱', '新疆', '女', '招聘', '传奇', '县长', '公司', '上册', '营业厅', '最', '签名', '世界', '儿子', '歌曲', '号', '黑狐', '日本', '头像', '完整版', '外挂', '标准', '图腾', '新浪', '小', '中', '小学', '答案', '移动', '全文', '电话', '龙门', '闫宁', '岁', '地图', '钱']\n",
      "['O', 'O', 'O', 'O', 'O', 'S-Ns', 'O', 'O', 'O', 'O', 'O', 'O', 'O', 'O', 'O', 'O', 'O', 'O', 'O', 'O', 'O', 'O', 'O', 'O', 'O', 'B-Ni', 'I-Ni', 'I-Ni', 'E-Ni', 'O', 'O', 'O', 'O', 'S-Ns', 'O', 'O', 'O', 'O', 'O', 'O', 'O', 'O', 'O', 'S-Ns', 'O', 'O', 'S-Ns', 'O', 'O', 'O', 'O', 'O', 'O', 'O', 'O', 'O', 'O', 'O', 'O', 'O', 'O', 'O', 'O', 'S-Nh', 'O', 'O', 'S-Ns', 'O', 'O', 'O', 'O', 'O', 'O', 'O', 'O', 'O', 'O', 'O', 'O', 'O', 'O', 'S-Ns', 'O', 'O', 'O', 'O', 'O', 'O', 'O', 'S-Ns', 'O', 'O', 'O', 'O', 'O', 'S-Ns', 'O', 'O', 'O', 'O']\n"
     ]
    }
   ],
   "source": [
    "print(pure_words[:100])\n",
    "print(ne_tags[:100])"
   ]
  },
  {
   "cell_type": "code",
   "execution_count": 23,
   "metadata": {},
   "outputs": [
    {
     "name": "stdout",
     "output_type": "stream",
     "text": [
      "440\n"
     ]
    }
   ],
   "source": [
    "location_indexs = []\n",
    "name_indexs = []\n",
    "for i in range(10000):\n",
    "    if ne_tags[i] == 'S-Ns':\n",
    "        location_indexs.append(i)\n",
    "    if ne_tags[i] == 'S-Nh':\n",
    "        name_indexs.append(i)\n",
    "location_indexs.pop()\n",
    "print(len(location_indexs))"
   ]
  },
  {
   "cell_type": "code",
   "execution_count": 24,
   "metadata": {},
   "outputs": [
    {
     "name": "stdout",
     "output_type": "stream",
     "text": [
      "[('中国', 60173), ('北京', 22748), ('上海', 19073), ('金陵', 18297), ('新疆', 15602), ('日本', 13891), ('中', 13399), ('龙门', 12996), ('深圳', 10430), ('馆陶县', 9842), ('成都', 9628), ('广州', 9444), ('山东', 8997), ('杭州', 7439), ('江苏', 7359), ('武汉', 6647), ('香港', 6453), ('四川', 6329), ('沈阳', 6277), ('南京', 6198), ('浙江', 6152), ('韩国', 5734), ('朝鲜', 5174), ('济南', 4590), ('湖南', 4463), ('郑州', 4226), ('哈尔滨', 4116), ('山西', 4043), ('厦门', 4025), ('苏州', 3869)]\n"
     ]
    }
   ],
   "source": [
    "top30_locations = [word_tuples[i] for i in location_indexs[:30]]\n",
    "print(top30_locations)"
   ]
  },
  {
   "cell_type": "code",
   "execution_count": 45,
   "metadata": {},
   "outputs": [
    {
     "name": "stdout",
     "output_type": "stream",
     "text": [
      "358\n",
      "[('迅雷', 15930), ('洛克', 11980), ('范文', 8461), ('金正日', 7444), ('魏特琳', 6785), ('李宇春', 6416), ('甄', 6117), ('张去', 5269), ('奥特曼', 5003), ('张柏芝', 4401), ('毛泽东', 4376), ('刘少奇', 3892), ('李明博', 3693), ('王菲', 3471), ('王', 3390), ('张杰', 3376), ('姚明', 3356), ('彭德怀', 3088), ('金正恩', 2969), ('杨棋涵', 2444), ('武则天', 2250), ('刘洋', 2189), ('金', 2101), ('韩红', 1992), ('七雄', 1982), ('柯南', 1721), ('赵本山', 1704), ('杨幂', 1674), ('毕福剑', 1670), ('周', 1622), ('周立波', 1584), ('康熙', 1546), ('黄', 1537), ('周星驰', 1529), ('成龙', 1520), ('翩翩飞', 1507), ('少林', 1493), ('奥拉', 1461), ('洛奇', 1421), ('郭德纲', 1410), ('范冰冰', 1376), ('杨门', 1373), ('张', 1331), ('邓小平', 1268), ('刘德华', 1255), ('李', 1250), ('姜宏', 1225), ('江青', 1134), ('李连杰', 1118), ('谢娜', 1087), ('刘恺威', 1076), ('张显', 1042), ('热火', 1023), ('林正英', 1019), ('苍井空', 1001), ('柳岩', 991), ('杨钰莹', 968), ('孙立霞', 960), ('列斯', 922), ('周杰伦', 921), ('林彪', 916), ('图图', 887), ('凯', 809), ('乔丹', 804), ('哈利波', 788), ('李小冉', 785), ('杰克逊', 783), ('立德', 781), ('丁丁', 767), ('刘亦菲', 756), ('刘', 740), ('杨', 734), ('神印', 732), ('金日成', 727), ('张筱雨', 726), ('陈', 716), ('摩尔', 710), ('汤芳', 705), ('倪妮', 681), ('佐藤', 660), ('单田芳', 643), ('周润发', 628), ('卡卡', 621), ('戴尔', 615), ('张翰', 610), ('郎咸平', 609), ('董文华', 609), ('科比', 604), ('吴奇隆', 603), ('周恩来', 593), ('朱镕基', 579), ('济公', 566), ('娜娜', 560), ('吴京', 550), ('迈克尔', 542), ('龙腾', 536), ('舒淇', 534), ('芭比', 531), ('冯仁亮', 519), ('阿凡', 512), ('马丁', 509), ('哈弗', 506), ('阿狸', 503), ('胡莱', 502), ('陈冠希', 498), ('蒋介石', 495), ('甄子丹', 480), ('庄巧涵', 479), ('林心如', 478), ('巴菲特', 475), ('秦海璐', 474), ('小s', 473), ('帕萨特', 464), ('张国荣', 457), ('金庸', 443), ('谢霆锋', 443), ('潘倩倩', 436), ('格格', 430), ('许嵩', 424), ('卡马乔', 418), ('艾尔之光', 413), ('陈小春', 411), ('狄仁杰', 410), ('唐门', 401), ('刘士杰', 401), ('李小龙', 395), ('林志颖', 393), ('小明', 393), ('任达华', 393), ('黄晓明', 392), ('宋', 392), ('胡卫东', 390), ('张馨予', 390), ('邓丽君', 389), ('韦迪', 386), ('王立成', 385), ('林志玲', 385), ('波克', 383), ('高京燕', 381), ('赵', 380), ('林俊杰', 380), ('雅思', 377), ('陈奕迅', 373), ('赵奕欢', 373), ('陆丰', 370), ('李玉刚', 365), ('刘诗', 365), ('李翔', 361), ('侯', 360), ('罗志祥', 359), ('梅艳芳', 358), ('杜', 357), ('阿宾', 354), ('章子怡', 354), ('小精灵', 354), ('汤姆', 352), ('大明', 350), ('孙俪', 345), ('卡特', 341), ('黄胜', 338), ('秦始皇', 338), ('卡扎菲', 336), ('冯', 335), ('安娜', 333), ('梅西', 332), ('秦基伟', 330), ('鲁迅', 329), ('孙志刚', 329), ('周大福', 329), ('金立', 326), ('胡', 325), ('华国锋', 322), ('凤姐', 322), ('阿修罗', 317), ('李宁', 314), ('卫东', 314), ('乔燕琴', 309), ('张曼玉', 307), ('娜', 306), ('阿衰', 301), ('康', 301), ('林青霞', 300), ('吴', 300), ('贝尔', 297), ('胡锦涛', 296), ('高达', 293), ('滕', 290), ('张卫健', 290), ('汤灿', 289), ('杨澜', 287), ('文强', 285), ('唐寅', 285), ('詹姆斯', 282), ('白培中', 282), ('张艺谋', 280), ('奥雅之光', 278), ('朱军', 274), ('孙悟空', 272), ('朱之文', 270), ('小强', 269)]\n"
     ]
    }
   ],
   "source": [
    "print(len(name_indexs))\n",
    "popular_names = [word_tuples[i] for i in name_indexs[:200]]\n",
    "print(popular_names)"
   ]
  },
  {
   "cell_type": "code",
   "execution_count": 42,
   "metadata": {},
   "outputs": [
    {
     "data": {
      "image/png": "[encoded data removed]",
      "text/plain": [
       "<matplotlib.figure.Figure at 0x7f444327a748>"
      ]
     },
     "metadata": {},
     "output_type": "display_data"
    }
   ],
   "source": [
    "%matplotlib inline\n",
    "import matplotlib.pyplot as plt\n",
    "import numpy as np\n",
    "n_locations = 30\n",
    "index = np.arange(n_locations)\n",
    "loc_search_cnt = tuple(t[1] for t in top30_locations)\n",
    "bar_width = 0.8\n",
    "rects = plt.bar(index, loc_search_cnt, bar_width)\n",
    "plt.xlabel('locations')\n",
    "plt.ylabel('total search times')\n",
    "x_ticks = tuple(t[0] for t in top30_locations)\n",
    "plt.xticks(index, x_ticks)\n",
    "plt.show()"
   ]
  },
  {
   "cell_type": "code",
   "execution_count": 44,
   "metadata": {},
   "outputs": [
    {
     "name": "stdout",
     "output_type": "stream",
     "text": [
      "write success\n"
     ]
    }
   ],
   "source": [
    "import xlwt\n",
    "'''\n",
    "设置单元格样式\n",
    "'''\n",
    "def set_style(name,height,bold=False):\n",
    "    style = xlwt.XFStyle() # 初始化样式\n",
    "    font = xlwt.Font() # 为样式创建字体\n",
    "    font.name = name # 'Times New Roman'\n",
    "    font.bold = bold\n",
    "    font.color_index = 4\n",
    "    font.height = height\n",
    "    # borders= xlwt.Borders()\n",
    "    # borders.left= 6\n",
    "    # borders.right= 6\n",
    "    # borders.top= 6\n",
    "    # borders.bottom= 6\n",
    "    style.font = font\n",
    "    # style.borders = borders\n",
    "    return style\n",
    "\n",
    "def write_excel():\n",
    "    f = xlwt.Workbook()\n",
    "    sheet1 = f.add_sheet(u'total_location', cell_overwrite_ok=True)\n",
    "    sheet2 = f.add_sheet('total_name', cell_overwrite_ok=True)\n",
    "    sheet3 = f.add_sheet('total_data', cell_overwrite_ok=True)\n",
    "    row0 = ['word', 'count']\n",
    "    for i in range(len(row0)):\n",
    "        sheet1.write(0,i,row0[i],set_style('Times New Roman',220,True))\n",
    "        sheet2.write(0,i,row0[i],set_style('Times New Roman',220,True))\n",
    "        sheet3.write(0,i,row0[i],set_style('Times New Roman',220,True))\n",
    "        \n",
    "    for i in range(len(top30_locations)):\n",
    "        sheet1.write(i+1, 0, top30_locations[i][0], \n",
    "                     set_style('Times New Roman',220,True)) \n",
    "        sheet1.write(i+1, 1, top30_locations[i][1], \n",
    "                     set_style('Times New Roman',220,True))\n",
    "    for i in range(len(popular_names)):\n",
    "        sheet2.write(i+1, )\n",
    "    f.save('total_cnt.xlsx')\n",
    "    print(\"write success\")\n",
    "\n",
    "write_excel()"
   ]
  },
  {
   "cell_type": "code",
   "execution_count": null,
   "metadata": {
    "collapsed": true
   },
   "outputs": [],
   "source": []
  }
 ],
 "metadata": {
  "kernelspec": {
   "display_name": "Python 3",
   "language": "python",
   "name": "python3"
  },
  "language_info": {
   "codemirror_mode": {
    "name": "ipython",
    "version": 3
   },
   "file_extension": ".py",
   "mimetype": "text/x-python",
   "name": "python",
   "nbconvert_exporter": "python",
   "pygments_lexer": "ipython3",
   "version": "3.5.2+"
  }
 },
 "nbformat": 4,
 "nbformat_minor": 2
}
